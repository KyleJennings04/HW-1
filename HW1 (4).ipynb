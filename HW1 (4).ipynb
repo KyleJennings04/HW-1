{
 "cells": [
  {
   "cell_type": "markdown",
   "metadata": {},
   "source": [
    "# Intro to Data Science - Homework 1 - Spring 2025 - Wilmington College\n",
    "## Due Date: February 7, 2025"
   ]
  },
  {
   "cell_type": "markdown",
   "metadata": {},
   "source": [
    "## Q1: Climate and Environmental Data Analysis \n",
    " \n",
    "As a data scientist working in environmental research, you are analyzing climate patterns and temperature fluctuations in different regions. Your goal is to process and analyze temperature data using **NumPy operations efficiently**. \n",
    "\n",
    "### **1. Advanced Array Operations:**  \n",
    "You have temperature readings (in Celsius) for five consecutive days from three different cities:  \n",
    "```python\n",
    "city1 = np.array([12, 15, 18, 20, 22])  \n",
    "city2 = np.array([10, 14, 19, 23, 28])  \n",
    "city3 = np.array([5, 10, 15, 20, 25])  \n",
    "```\n",
    "- a. **Stack** these arrays into a **2D NumPy array** where each row represents a city, and each column represents a day.  \n",
    "- b. Compute the **row-wise mean** temperature for each city.  \n",
    "- c. Compute the **column-wise maximum** temperature recorded on each day.  \n",
    "- d. Convert all temperatures from **Celsius to Fahrenheit** using broadcasting:  \n",
    "   $$\n",
    "   F = C \\times \\frac{9}{5} + 32\n",
    "   $$\n",
    "- e. Identify the **index positions** where temperatures exceeded **20°C**."
   ]
  },
  {
   "cell_type": "code",
   "execution_count": null,
   "metadata": {},
   "outputs": [],
   "source": [
    "#     **Solution**\n",
    "# Type your solution here."
   ]
  },
  {
   "cell_type": "markdown",
   "metadata": {},
   "source": [
    "### Q2. Conditional Logic & Boolean Indexing:\n",
    "\n",
    "You are given daily temperature readings for a month in a city:  \n",
    "\n",
    "```python\n",
    "monthly_temps = np.random.randint(5, 35, size=30)  # Generates random temperatures between 5 and 35°C  \n",
    "```  \n",
    "- a. Create an array `temp_category` where temperatures **≥ 25°C** are labeled as `\"Hot\"`, temperatures between **15-24°C** as `\"Moderate\"`, and temperatures **≤ 14°C** as `\"Cold\"`.  \n",
    "\n",
    "- b. Count how many days were `\"Hot\"`, `\"Moderate\"`, and `\"Cold\"`.  \n",
    "- c. Replace all `\"Cold\"` days (≤ 14°C) with the mean temperature of the `\"Moderate\"` days.  \n",
    "- d. Find the **top 3 hottest days** and their corresponding indices in `monthly_temps`.  \n"
   ]
  },
  {
   "cell_type": "code",
   "execution_count": null,
   "metadata": {},
   "outputs": [],
   "source": [
    "#     **Solution**\n",
    "# Type your solution here."
   ]
  },
  {
   "cell_type": "markdown",
   "metadata": {},
   "source": [
    "### Q3. Statistical & Mathematical Operations:\n",
    "\n",
    "Given an array of test scores from an environmental science class:  \n",
    "\n",
    "```python\n",
    "scores = np.array([78, 85, 92, 88, 76, 95, 89, 83, 90, 87])  \n",
    "```  \n",
    "- a. Compute the **mean, median, standard deviation, and variance** of the scores.  \n",
    "- b. Determine the **25th and 75th percentile** of the scores.  \n",
    "- c. Normalize the test scores to be between **0 and 1** using min-max scaling:  \n",
    "   $$\n",
    "   X_{\\text{norm}} = \\frac{X - \\min(X)}{\\max(X) - \\min(X)}\n",
    "   $$\n",
    "- d. Apply **boolean indexing** to extract test scores greater than one standard deviation above the mean.  \n",
    "\n"
   ]
  },
  {
   "cell_type": "code",
   "execution_count": null,
   "metadata": {},
   "outputs": [],
   "source": [
    "#     **Solution**\n",
    "# Type your solution here."
   ]
  },
  {
   "cell_type": "markdown",
   "metadata": {},
   "source": [
    "### Q4. Linear Algebra & Matrix Transformations:\n",
    "\n",
    "You are given two matrices representing different climate models:  \n",
    "\n",
    "```python\n",
    "climate_model1 = np.array([[1, 2, 3], [4, 5, 6], [7, 8, 9]])  \n",
    "climate_model2 = np.array([[9, 8, 7], [6, 5, 4], [3, 2, 1]])  \n",
    "```  \n",
    "- a. Compute the **dot product** of `climate_model1` and `climate_model2`.  \n",
    "- b. Find the **determinant** of `climate_model1`.  \n",
    "- c. Compute the **eigenvalues and eigenvectors** of `climate_model1`.  \n",
    "- d. Reshape `climate_model1` into a **1D array**.  \n",
    "- e. Extract the **diagonal elements** of `climate_model1`.  \n"
   ]
  },
  {
   "cell_type": "code",
   "execution_count": null,
   "metadata": {},
   "outputs": [],
   "source": [
    "#     **Solution**\n",
    "# Type your solution here."
   ]
  },
  {
   "cell_type": "markdown",
   "metadata": {},
   "source": [
    "\n",
    "### Q5. Random Walk Simulation - Extreme Temperature Changes:\n",
    "\n",
    "Simulate a **temperature fluctuation model** for a **random city over 365 days**. Start at **20°C**, and at each step, the temperature can change randomly by **±1, ±2, or ±3°C**.  \n",
    "- a. Generate a **random walk** of 365 steps using `np.random.choice([-3, -2, -1, 1, 2, 3], size=365)`.  \n",
    "- b. Compute the **maximum deviation** from the starting temperature.  \n",
    "- c. Find how many times the temperature dropped below **10°C**.  \n",
    "- d. Plot the temperature fluctuation over time.  \n",
    "- e. Modify the step distribution to use **normally distributed** temperature variations using `rng.standard_normal` with a mean of **0** and standard deviation of **2**.  \n",
    "\n"
   ]
  },
  {
   "cell_type": "code",
   "execution_count": null,
   "metadata": {},
   "outputs": [],
   "source": [
    "#     **Solution**\n",
    "# Type your solution here."
   ]
  },
  {
   "cell_type": "markdown",
   "metadata": {},
   "source": [
    "### Q6  \n",
    "Given a 2D NumPy array of temperature readings from 5 cities over 10 days: \n",
    " \n",
    "```python\n",
    "temps_2d = np.random.randint(10, 40, size=(5, 10))  \n",
    "```  \n",
    "- a. Find the **city with the highest average temperature**.  \n",
    "- b. Find the **day with the lowest recorded temperature**.  \n",
    "- c. Replace any temperature above **35°C** with the **average of its row**.  \n"
   ]
  },
  {
   "cell_type": "code",
   "execution_count": null,
   "metadata": {},
   "outputs": [],
   "source": [
    "#     **Solution**\n",
    "# Type your solution here."
   ]
  }
 ],
 "metadata": {
  "kernelspec": {
   "display_name": "Python 3",
   "language": "python",
   "name": "python3"
  },
  "language_info": {
   "codemirror_mode": {
    "name": "ipython",
    "version": 3
   },
   "file_extension": ".py",
   "mimetype": "text/x-python",
   "name": "python",
   "nbconvert_exporter": "python",
   "pygments_lexer": "ipython3",
   "version": "3.10.13"
  }
 },
 "nbformat": 4,
 "nbformat_minor": 2
}
