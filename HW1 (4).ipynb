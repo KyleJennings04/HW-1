{
 "cells": [
  {
   "cell_type": "markdown",
   "metadata": {},
   "source": [
    "# Intro to Data Science - Homework 1 - Spring 2025 - Wilmington College\n",
    "## Due Date: February 7, 2025"
   ]
  },
  {
   "cell_type": "markdown",
   "metadata": {},
   "source": [
    "## Q1: Climate and Environmental Data Analysis \n",
    " \n",
    "As a data scientist working in environmental research, you are analyzing climate patterns and temperature fluctuations in different regions. Your goal is to process and analyze temperature data using **NumPy operations efficiently**. \n",
    "\n",
    "### **1. Advanced Array Operations:**  \n",
    "You have temperature readings (in Celsius) for five consecutive days from three different cities:  \n",
    "```python\n",
    "city1 = np.array([12, 15, 18, 20, 22])  \n",
    "city2 = np.array([10, 14, 19, 23, 28])  \n",
    "city3 = np.array([5, 10, 15, 20, 25])  \n",
    "```\n",
    "- a. **Stack** these arrays into a **2D NumPy array** where each row represents a city, and each column represents a day.  \n",
    "- b. Compute the **row-wise mean** temperature for each city.  \n",
    "- c. Compute the **column-wise maximum** temperature recorded on each day.  \n",
    "- d. Convert all temperatures from **Celsius to Fahrenheit** using broadcasting:  \n",
    "   $$\n",
    "   F = C \\times \\frac{9}{5} + 32\n",
    "   $$\n",
    "- e. Identify the **index positions** where temperatures exceeded **20°C**."
   ]
  },
  {
   "cell_type": "code",
   "execution_count": 1,
   "metadata": {},
   "outputs": [
    {
     "data": {
      "text/plain": [
       "(array([0, 1, 1, 2]), array([4, 3, 4, 4]))"
      ]
     },
     "execution_count": 1,
     "metadata": {},
     "output_type": "execute_result"
    }
   ],
   "source": [
    "#     **Solution**\n",
    "# Type your solution here.\n",
    "import numpy as np\n",
    "def c2f(c):\n",
    "    return (c * 1.8) + 32\n",
    "city1 = np.array([12, 15, 18, 20, 22])\n",
    "city2 = np.array([10, 14, 19, 23, 28])\n",
    "city3 = np.array([5, 10, 15, 20, 25])\n",
    "cities = (np.concatenate((city1, city2, city3))).reshape(3,5)\n",
    "cities\n",
    "cities.mean(axis=1)\n",
    "cities.max(axis=0)\n",
    "celsius = c2f(cities)\n",
    "celsius\n",
    "np.where(cities > 20)"
   ]
  },
  {
   "cell_type": "markdown",
   "metadata": {},
   "source": [
    "### Q2. Conditional Logic & Boolean Indexing:\n",
    "\n",
    "You are given daily temperature readings for a month in a city:  \n",
    "\n",
    "```python\n",
    "monthly_temps = np.random.randint(5, 35, size=30)  # Generates random temperatures between 5 and 35°C  \n",
    "```  \n",
    "- a. Create an array `temp_category` where temperatures **≥ 25°C** are labeled as `\"Hot\"`, temperatures between **15-24°C** as `\"Moderate\"`, and temperatures **≤ 14°C** as `\"Cold\"`.  \n",
    "\n",
    "- b. Count how many days were `\"Hot\"`, `\"Moderate\"`, and `\"Cold\"`.  \n",
    "- c. Replace all `\"Cold\"` days (≤ 14°C) with the mean temperature of the `\"Moderate\"` days.  \n",
    "- d. Find the **top 3 hottest days** and their corresponding indices in `monthly_temps`.  \n"
   ]
  },
  {
   "cell_type": "code",
   "execution_count": 7,
   "metadata": {},
   "outputs": [
    {
     "name": "stdout",
     "output_type": "stream",
     "text": [
      "10\n",
      "10\n",
      "10\n",
      "Indices: [10 23 27]\n",
      "Values: [32 32 32]\n"
     ]
    }
   ],
   "source": [
    "#     **Solution**\n",
    "# Type your solution here.\n",
    "import numpy as np\n",
    "monthly_temps = np.random.randint(5, 35, size=30)\n",
    "condlist = [monthly_temps>=25, monthly_temps<=14]\n",
    "choicelist = [\"Hot\", \"Cold\"]\n",
    "temp_category = np.select(condlist, choicelist, \"Moderate\")\n",
    "hot = np.size(np.where(temp_category == \"Hot\"))\n",
    "mod = np.size(np.where(temp_category == \"Moderate\"))\n",
    "cold = np.size(np.where(temp_category == \"Cold\"))\n",
    "print(hot)\n",
    "print(mod)\n",
    "print(cold)\n",
    "temp_category[temp_category == \"Cold\"] = np.mean(mod)\n",
    "indices = np.argsort(monthly_temps)[-3:]\n",
    "values = monthly_temps[indices]\n",
    "print(\"Indices:\", indices)\n",
    "print(\"Values:\", values)"
   ]
  },
  {
   "cell_type": "markdown",
   "metadata": {},
   "source": [
    "### Q3. Statistical & Mathematical Operations:\n",
    "\n",
    "Given an array of test scores from an environmental science class:  \n",
    "\n",
    "```python\n",
    "scores = np.array([78, 85, 92, 88, 76, 95, 89, 83, 90, 87])  \n",
    "```  \n",
    "- a. Compute the **mean, median, standard deviation, and variance** of the scores.  \n",
    "- b. Determine the **25th and 75th percentile** of the scores.  \n",
    "- c. Normalize the test scores to be between **0 and 1** using min-max scaling:  \n",
    "   $$\n",
    "   X_{\\text{norm}} = \\frac{X - \\min(X)}{\\max(X) - \\min(X)}\n",
    "   $$\n",
    "- d. Apply **boolean indexing** to extract test scores greater than one standard deviation above the mean.  \n",
    "\n"
   ]
  },
  {
   "cell_type": "code",
   "execution_count": 32,
   "metadata": {},
   "outputs": [
    {
     "name": "stdout",
     "output_type": "stream",
     "text": [
      "86.3\n",
      "87.5\n",
      "5.657738063926255\n",
      "32.010000000000005\n",
      "83.5\n",
      "89.75\n",
      "[0.10526316 0.47368421 0.84210526 0.63157895 0.         1.\n",
      " 0.68421053 0.36842105 0.73684211 0.57894737]\n"
     ]
    }
   ],
   "source": [
    "#     **Solution**\n",
    "# Type your solution here.\n",
    "import numpy as np\n",
    "scores = np.array([78, 85, 92, 88, 76, 95, 89, 83, 90, 87])\n",
    "mean = np.mean(scores)\n",
    "median = np.median(scores)\n",
    "sd = np.std(scores)\n",
    "var = np.var(scores)\n",
    "twenty_fifth = np.percentile(scores, 25)\n",
    "twenty_fifth\n",
    "seventy_fifth = np.percentile(scores, 75)\n",
    "seventy_fifth\n",
    "min_val = np.min(scores)\n",
    "max_val = np.max(scores)\n",
    "scaled_scores = (scores - min_val) / (max_val - min_val)\n",
    "scores[scaled_scores > 1]\n",
    "print(mean)\n",
    "print(median)\n",
    "print(sd)\n",
    "print(var)\n",
    "print(twenty_fifth)\n",
    "print(seventy_fifth)\n",
    "print(scaled_scores)\n"
   ]
  },
  {
   "cell_type": "markdown",
   "metadata": {},
   "source": [
    "### Q4. Linear Algebra & Matrix Transformations:\n",
    "\n",
    "You are given two matrices representing different climate models:  \n",
    "\n",
    "```python\n",
    "climate_model1 = np.array([[1, 2, 3], [4, 5, 6], [7, 8, 9]])  \n",
    "climate_model2 = np.array([[9, 8, 7], [6, 5, 4], [3, 2, 1]])  \n",
    "```  \n",
    "- a. Compute the **dot product** of `climate_model1` and `climate_model2`.  \n",
    "- b. Find the **determinant** of `climate_model1`.  \n",
    "- c. Compute the **eigenvalues and eigenvectors** of `climate_model1`.  \n",
    "- d. Reshape `climate_model1` into a **1D array**.  \n",
    "- e. Extract the **diagonal elements** of `climate_model1`.  \n"
   ]
  },
  {
   "cell_type": "code",
   "execution_count": 39,
   "metadata": {},
   "outputs": [
    {
     "data": {
      "text/plain": [
       "array([1, 5, 9])"
      ]
     },
     "execution_count": 39,
     "metadata": {},
     "output_type": "execute_result"
    }
   ],
   "source": [
    "#     **Solution**\n",
    "# Type your solution here.\n",
    "climate_model1 = np.array([[1, 2, 3], [4, 5, 6], [7, 8, 9]])\n",
    "climate_model2 = np.array([[9, 8, 7], [6, 5, 4], [3, 2, 1]])\n",
    "np.dot(climate_model1, climate_model2)\n",
    "np.linalg.det(climate_model1)\n",
    "np.linalg.det(climate_model2)\n",
    "climate_model1.reshape(-1)\n",
    "np.diag(climate_model1)"
   ]
  },
  {
   "cell_type": "markdown",
   "metadata": {},
   "source": [
    "\n",
    "### Q5. Random Walk Simulation - Extreme Temperature Changes:\n",
    "\n",
    "Simulate a **temperature fluctuation model** for a **random city over 365 days**. Start at **20°C**, and at each step, the temperature can change randomly by **±1, ±2, or ±3°C**.  \n",
    "- a. Generate a **random walk** of 365 steps using `np.random.choice([-3, -2, -1, 1, 2, 3], size=365)`.  \n",
    "- b. Compute the **maximum deviation** from the starting temperature.  \n",
    "- c. Find how many times the temperature dropped below **10°C**.  \n",
    "- d. Plot the temperature fluctuation over time.  \n",
    "- e. Modify the step distribution to use **normally distributed** temperature variations using `rng.standard_normal` with a mean of **0** and standard deviation of **2**.  \n",
    "\n"
   ]
  },
  {
   "cell_type": "code",
   "execution_count": 43,
   "metadata": {},
   "outputs": [
    {
     "data": {
      "text/plain": [
       "array([17.15234993, 19.67980684, 17.93848337, 17.4201369 , 17.26945028,\n",
       "       15.78768098, 13.05209558, 14.34988118, 15.07199741, 11.16627128,\n",
       "       15.86109059, 17.7980844 , 16.27931004, 18.08370659, 17.14980024,\n",
       "       17.0284212 , 18.60610989, 16.09277363, 17.24448866, 20.04244664,\n",
       "       22.68704277, 22.08764574, 23.89348442, 20.65031895, 20.33394043,\n",
       "       21.23290829, 18.54570615, 18.38233097, 21.83181083, 27.06812968,\n",
       "       28.62285237, 30.28011876, 28.36214214, 25.94336556, 23.11878154,\n",
       "       24.2018752 , 25.70575399, 24.38823335, 21.93088338, 22.44599891,\n",
       "       23.07180475, 22.81018137, 25.35014761, 25.1642227 , 25.03192092,\n",
       "       22.81549198, 23.08740568, 25.78156121, 25.90384925, 26.04567846,\n",
       "       26.91298753, 27.46795485, 28.52845962, 29.60190156, 30.83860159,\n",
       "       29.24856668, 29.84862857, 26.64322539, 27.17682305, 24.65357548,\n",
       "       24.51103387, 25.45913333, 24.62942581, 24.82485881, 21.54402313,\n",
       "       19.82950549, 21.20606906, 18.8970099 , 20.19791467, 17.42119477,\n",
       "       15.60642985, 13.41557924, 13.42987063, 14.49859044, 12.36697474,\n",
       "       12.00402926, 15.24793286, 14.61314897, 12.98151903, 13.75467707,\n",
       "       13.30739922, 11.9040176 ,  8.31259125,  9.94924249,  8.80717669,\n",
       "        8.80874774,  6.6814623 ,  9.2848913 , 10.78063719, 12.74238901,\n",
       "       12.52155163, 13.45738869, 15.23860299, 17.28462172, 17.9093885 ,\n",
       "       17.78557913, 17.06661983, 15.56933187, 13.63837405, 14.35844337,\n",
       "       13.8693383 ,  9.87762508,  9.56712985, 11.69479159, 11.14444846,\n",
       "        7.4377766 ,  7.18909274,  8.75904179,  9.16303898,  8.3068901 ,\n",
       "       12.00346789, 15.80337367, 15.6065236 , 17.23341448, 18.01840326,\n",
       "       19.58128906, 22.4878321 , 24.12820419, 24.30361488, 22.99660358,\n",
       "       21.37282982, 21.32175348, 23.63812256, 24.2391643 , 24.34527759,\n",
       "       24.85982064, 24.93130637, 26.02577974, 23.77985658, 19.82936124,\n",
       "       18.97906114, 16.6809135 , 19.91118961, 19.59423589, 19.0884892 ,\n",
       "       16.01218113, 16.5763532 , 15.32912893, 17.57277345, 19.25521552,\n",
       "       17.70342331, 18.5248562 , 13.08002399, 11.73341439, 14.22585745,\n",
       "       15.8062735 , 16.15695528, 16.09836608, 13.25933756, 10.53940491,\n",
       "       10.98622803, 14.5097869 , 10.1680072 , 11.42498354, 12.6273766 ,\n",
       "       14.52889231, 12.79039898, 11.73238484, 11.82375303,  9.7686494 ,\n",
       "        7.31007081,  5.54335386,  5.40156694,  6.14967364,  6.10048616,\n",
       "        6.25500748,  4.88718104,  3.44550571,  5.68675134,  5.57712302,\n",
       "        5.41229557,  7.28426857,  9.76134282, 12.30693387, 13.11871831,\n",
       "       13.01806786, 13.59670294, 13.95531429, 16.75027541, 17.33436899,\n",
       "       18.61118034, 18.55540491, 21.29750861, 17.19189335, 17.95291151,\n",
       "       19.46369285, 17.14544115, 21.44606138, 21.14552094, 20.82319238,\n",
       "       18.66430743, 20.4202398 , 20.86917463, 19.68598772, 20.13851332,\n",
       "       21.51087834, 23.94088755, 24.37300644, 22.44335932, 21.33014371,\n",
       "       16.73336843, 15.26920418, 16.74214238, 17.67357582, 17.45782372,\n",
       "       16.77495113, 19.94401872, 20.50850113, 22.32759391, 23.11773705,\n",
       "       21.77898401, 24.88972197, 22.41344391, 20.02109698, 19.16279797,\n",
       "       17.70347819, 16.58854039, 15.38863426, 17.36228867, 17.47067802,\n",
       "       18.1744929 , 14.99855389, 13.30465119, 15.47379171, 13.06613842,\n",
       "       15.42320021, 13.3618685 , 13.96030516, 12.26782522, 12.66106582,\n",
       "       10.86179017, 10.34857931, 13.69367484, 12.94313555, 17.01672511,\n",
       "       16.09913831, 13.74759899, 13.89770399, 13.07972356, 16.59278753,\n",
       "       18.31463367, 20.67718163, 21.94052197, 26.8825162 , 28.47112123,\n",
       "       29.53382698, 27.87502979, 26.05642212, 26.42489399, 28.42037034,\n",
       "       30.65428842, 28.76628734, 29.82910075, 30.21579274, 27.97926557,\n",
       "       29.00295674, 24.46182416, 24.98815125, 29.93077824, 27.89100784,\n",
       "       27.92851307, 24.13998462, 22.62998131, 24.14237679, 22.05745277,\n",
       "       21.98893649, 21.27859989, 20.52174315, 20.90304053, 21.87183312,\n",
       "       24.33236863, 25.99830987, 24.86842637, 27.6978184 , 30.19438083,\n",
       "       27.07648463, 28.40694982, 30.05814016, 31.99077783, 33.08512842,\n",
       "       30.49076189, 29.95549323, 25.81508011, 25.49929501, 29.55718026,\n",
       "       30.92032203, 32.59272919, 31.5657531 , 29.53427989, 27.39373809,\n",
       "       27.6415634 , 26.03553164, 24.76026014, 27.04925142, 23.76744759,\n",
       "       21.13944043, 20.11873541, 19.91901364, 19.66000012, 16.86659   ,\n",
       "       17.2542087 , 16.99562325, 17.70458143, 15.53883616, 16.02871463,\n",
       "       16.47035621, 15.14949124, 14.71242094, 13.60042292, 16.31318494,\n",
       "       10.07396769,  7.17862429,  3.7670535 ,  3.01081366,  1.65382583,\n",
       "        0.83133396,  2.26935925, -0.99567971, -2.68706697, -3.13326709,\n",
       "       -5.53770373, -4.79772836, -4.13773364, -5.55862687, -9.10084119,\n",
       "       -5.8991695 , -4.95697337, -4.10947212, -3.96495115, -3.97964509,\n",
       "       -2.31749374, -2.34870479, -3.61051747, -2.1915147 , -2.07212436,\n",
       "       -3.61707585, -5.42955404, -3.09859547, -1.83650067,  2.11453649,\n",
       "        1.0612261 , -0.42585508,  0.38192607,  3.14073977,  4.33424458,\n",
       "        5.20055072,  8.97452685,  7.48774498,  4.99184694,  3.5026103 ,\n",
       "        2.86889633,  3.61559895,  5.65951966,  6.4707391 ,  9.5173666 ,\n",
       "        7.86235035, 11.67334127, 10.04929788, 12.39077035, 10.51508442,\n",
       "       11.20161843, 11.30341526, 12.33853455, 13.84138407, 13.41498573])"
      ]
     },
     "execution_count": 43,
     "metadata": {},
     "output_type": "execute_result"
    },
    {
     "data": {
      "image/png": "[encoded data removed]",
      "text/plain": [
       "<Figure size 640x480 with 1 Axes>"
      ]
     },
     "metadata": {},
     "output_type": "display_data"
    }
   ],
   "source": [
    "#     **Solution**\n",
    "# Type your solution here.\n",
    "import numpy as np\n",
    "import matplotlib.pyplot as plt \n",
    "steps = np.random.choice([-3, -2, -1, 1, 2, 3], size=365)\n",
    "walk = steps.cumsum()\n",
    "temp = walk + 20\n",
    "walk.max()\n",
    "counter = 0\n",
    "for value in temp:\n",
    "    if value < 10:\n",
    "        counter += 1\n",
    "counter\n",
    "plt.plot(temp)\n",
    "rng = np.random.default_rng(seed=12345)\n",
    "new_steps = rng.normal(0, 2, size=365)\n",
    "new_walk = new_steps.cumsum()\n",
    "new_temp = new_walk + 20\n",
    "new_temp"
   ]
  },
  {
   "cell_type": "markdown",
   "metadata": {},
   "source": [
    "### Q6  \n",
    "Given a 2D NumPy array of temperature readings from 5 cities over 10 days: \n",
    " \n",
    "```python\n",
    "temps_2d = np.random.randint(10, 40, size=(5, 10))  \n",
    "```  \n",
    "- a. Find the **city with the highest average temperature**.  \n",
    "- b. Find the **day with the lowest recorded temperature**.  \n",
    "- c. Replace any temperature above **35°C** with the **average of its row**.  \n"
   ]
  },
  {
   "cell_type": "code",
   "execution_count": 45,
   "metadata": {},
   "outputs": [
    {
     "name": "stdout",
     "output_type": "stream",
     "text": [
      "[[19 37 10 32 19 10 17 14 38 21]\n",
      " [10 35 17 22 15 28 17 10 27 15]\n",
      " [11 28 13 22 38 37 16 32 39 31]\n",
      " [23 13 27 11 25 31 27 22 12 28]\n",
      " [38 14 31 15 21 10 22 12 13 16]]\n",
      "2\n"
     ]
    },
    {
     "data": {
      "text/plain": [
       "array([[19. , 21.7, 10. , 32. , 19. , 10. , 17. , 14. , 21.7, 21. ],\n",
       "       [10. , 35. , 17. , 22. , 15. , 28. , 17. , 10. , 27. , 15. ],\n",
       "       [11. , 28. , 13. , 22. , 26.7, 26.7, 16. , 32. , 26.7, 31. ],\n",
       "       [23. , 13. , 27. , 11. , 25. , 31. , 27. , 22. , 12. , 28. ],\n",
       "       [19.2, 14. , 31. , 15. , 21. , 10. , 22. , 12. , 13. , 16. ]])"
      ]
     },
     "execution_count": 45,
     "metadata": {},
     "output_type": "execute_result"
    }
   ],
   "source": [
    "#     **Solution**\n",
    "# Type your solution here.\n",
    "import numpy as np\n",
    "temps_2d = np.random.randint(10, 40, size=(5, 10))\n",
    "print(temps_2d)\n",
    "avg_city_temps = np.mean(temps_2d, axis=1)\n",
    "highest_avg_index = np.argmax(avg_city_temps)\n",
    "highest_avg_value = avg_city_temps[highest_avg_index]\n",
    "highest_avg_value\n",
    "lowest_temp = temps_2d.min()\n",
    "lowest_temp_index = temps_2d.argmin()\n",
    "row, col = np.unravel_index(lowest_temp_index, temps_2d.shape)\n",
    "print(col)\n",
    "row_average = np.mean(temps_2d, axis=1).reshape(5, 1)\n",
    "mask = temps_2d > 35\n",
    "np.where(mask, row_average, temps_2d)"
   ]
  }
 ],
 "metadata": {
  "kernelspec": {
   "display_name": "Python 3",
   "language": "python",
   "name": "python3"
  },
  "language_info": {
   "codemirror_mode": {
    "name": "ipython",
    "version": 3
   },
   "file_extension": ".py",
   "mimetype": "text/x-python",
   "name": "python",
   "nbconvert_exporter": "python",
   "pygments_lexer": "ipython3",
   "version": "3.12.1"
  }
 },
 "nbformat": 4,
 "nbformat_minor": 2
}
